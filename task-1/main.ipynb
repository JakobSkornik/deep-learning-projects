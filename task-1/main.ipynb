{
 "cells": [
  {
   "attachments": {},
   "cell_type": "markdown",
   "metadata": {},
   "source": [
    "# ASSIGNMENT 1"
   ]
  },
  {
   "attachments": {},
   "cell_type": "markdown",
   "metadata": {},
   "source": [
    "## Setup\n",
    "\n",
    "* `$ pip install --user virtualenv`\n",
    "* `$ python3 -m venv venv`\n",
    "* `$ source venv/bin/activate`\n",
    "* `(venv) $ pip install -r requirements.txt`\n",
    "* `(venv) $ ipython kernel install --name=venv`\n",
    "* **main.ipynb** > **`F1`** > `Notebook: Select Notebook Kernel` > `venv`"
   ]
  },
  {
   "cell_type": "markdown",
   "metadata": {},
   "source": [
    "## Import\n",
    "\n",
    "Before you begin to run your code, you need to load all required modules. Simply execute the code block below. This block also enables Jupyter's auto-reloading feature, so you dont need to re-import modules whenever you change them."
   ]
  },
  {
   "cell_type": "code",
   "execution_count": 2,
   "metadata": {},
   "outputs": [],
   "source": [
    "# In order to import from the python file without hassle, we add the current\n",
    "# directory to the python path\n",
    "import sys; sys.path.append(\".\")\n",
    "\n",
    "# Auto-reload\n",
    "%load_ext autoreload\n",
    "%autoreload 2\n",
    "\n",
    "from src.utilities import *\n",
    "from src.neural_network.neural_network import NeuralNetwork"
   ]
  },
  {
   "attachments": {},
   "cell_type": "markdown",
   "metadata": {},
   "source": [
    "## Neural Network"
   ]
  },
  {
   "cell_type": "code",
   "execution_count": 90,
   "metadata": {},
   "outputs": [
    {
     "name": "stdout",
     "output_type": "stream",
     "text": [
      "The autoreload extension is already loaded. To reload it, use:\n",
      "  %reload_ext autoreload\n"
     ]
    }
   ],
   "source": [
    "dataset = json.load(open(\"data/datasets.json\"))"
   ]
  },
  {
   "cell_type": "code",
   "execution_count": 13,
   "metadata": {},
   "outputs": [
    {
     "name": "stdout",
     "output_type": "stream",
     "text": [
      "0: loss: 0.6934, accuracy: 0.75, learning_rate: 0.01\n",
      "200: loss: 0.5855, accuracy: 0.75, learning_rate: 0.0098\n",
      "400: loss: 0.5664, accuracy: 0.75, learning_rate: 0.0096\n",
      "600: loss: 0.5599, accuracy: 0.75, learning_rate: 0.0094\n",
      "800: loss: 0.5553, accuracy: 0.75, learning_rate: 0.0093\n",
      "1000: loss: 0.5502, accuracy: 0.75, learning_rate: 0.0091\n",
      "1200: loss: 0.5432, accuracy: 0.75, learning_rate: 0.0089\n",
      "1400: loss: 0.5329, accuracy: 0.75, learning_rate: 0.0088\n",
      "1600: loss: 0.5168, accuracy: 0.75, learning_rate: 0.0086\n",
      "1800: loss: 0.4932, accuracy: 0.75, learning_rate: 0.0085\n",
      "Finished learning. Accuracy: 0.75.\n",
      "=======================\n",
      "RESULTS:\n",
      "\n",
      "    TP: 0,\n",
      "    TN: 3,\n",
      "    FP: 0,\n",
      "    FN: 1\n",
      "    accuracy: 3 / 4 = 75.0%\n",
      "    sensitivity: 0.0\n",
      "    specificity: 1.0\n",
      "    \n"
     ]
    }
   ],
   "source": [
    "# Create a neural network\n",
    "basic5_AND = NeuralNetwork(\n",
    "    input_size=2,\n",
    "    output_size=2,\n",
    "    iterations=2000,\n",
    "    logs=True,\n",
    "    log_frequency=200,\n",
    "    alpha=0.01,\n",
    "    alpha_decay=0.0001,\n",
    "    epsilon=0.01,\n",
    "    layer_size=5,\n",
    "    hidden_layers=2\n",
    ")\n",
    "\n",
    "# Create dataset\n",
    "X_and = [\n",
    "    [0, 0],\n",
    "    [0, 1],\n",
    "    [1, 0],\n",
    "    [1, 1]\n",
    "]\n",
    "\n",
    "# AND target values\n",
    "y_and = one_hot([0, 0, 0, 1], 2)\n",
    "\n",
    "# Train on the dataset\n",
    "basic5_AND.train(X_and, y_and)\n",
    "\n",
    "# Evaluate model\n",
    "basic5_AND_confusion_matrix = evaluate_custom(X_and, y_and, basic5_AND)"
   ]
  },
  {
   "cell_type": "markdown",
   "metadata": {},
   "source": [
    "Neural network seems to work for an AND method. Let's try XOR."
   ]
  },
  {
   "cell_type": "code",
   "execution_count": 12,
   "metadata": {},
   "outputs": [
    {
     "name": "stdout",
     "output_type": "stream",
     "text": [
      "0: loss: 0.7252, accuracy: 0.5, learning_rate: 0.01\n",
      "200: loss: 0.6218, accuracy: 0.75, learning_rate: 0.0098\n",
      "400: loss: 0.5706, accuracy: 1.0, learning_rate: 0.0096\n",
      "600: loss: 0.5031, accuracy: 1.0, learning_rate: 0.0094\n",
      "800: loss: 0.4334, accuracy: 1.0, learning_rate: 0.0093\n",
      "1000: loss: 0.3739, accuracy: 1.0, learning_rate: 0.0091\n",
      "1200: loss: 0.3174, accuracy: 1.0, learning_rate: 0.0089\n",
      "1400: loss: 0.2684, accuracy: 1.0, learning_rate: 0.0088\n",
      "1600: loss: 0.2295, accuracy: 1.0, learning_rate: 0.0086\n",
      "1800: loss: 0.1954, accuracy: 1.0, learning_rate: 0.0085\n",
      "Finished learning. Accuracy: 1.0.\n",
      "=======================\n",
      "RESULTS:\n",
      "\n",
      "    TP: 2,\n",
      "    TN: 2,\n",
      "    FP: 0,\n",
      "    FN: 0\n",
      "    accuracy: 4 / 4 = 100.0%\n",
      "    sensitivity: 1.0\n",
      "    specificity: 1.0\n",
      "    \n"
     ]
    }
   ],
   "source": [
    "# Create a neural network\n",
    "basic5_XOR = NeuralNetwork(\n",
    "    input_size=2,\n",
    "    output_size=2,\n",
    "    iterations=2000,\n",
    "    logs=True,\n",
    "    log_frequency=200,\n",
    "    alpha=0.01,\n",
    "    alpha_decay=0.0001,\n",
    "    epsilon=0.01,\n",
    "    layer_size=5,\n",
    "    hidden_layers=2\n",
    ")\n",
    "\n",
    "# Create dataset\n",
    "X_xor = [\n",
    "    [0, 0],\n",
    "    [0, 1],\n",
    "    [1, 0],\n",
    "    [1, 1]\n",
    "]\n",
    "\n",
    "# XOR target values\n",
    "y_xor = one_hot([0, 1, 1, 0], 2)\n",
    "\n",
    "# Train on the dataset\n",
    "basic5_XOR.train(X_xor, y_xor)\n",
    "\n",
    "# Evaluate model\n",
    "basic5_XOR_confusion_matrix = evaluate_custom(X_xor, y_xor, basic5_XOR)"
   ]
  }
 ],
 "metadata": {
  "interpreter": {
   "hash": "bb0554d9c886063c2300e6d29d1b971f9021cb873aeef0a3a001aed34f0acc3f"
  },
  "kernelspec": {
   "display_name": "Python 3.10.0 64-bit",
   "language": "python",
   "name": "python3"
  },
  "language_info": {
   "codemirror_mode": {
    "name": "ipython",
    "version": 3
   },
   "file_extension": ".py",
   "mimetype": "text/x-python",
   "name": "python",
   "nbconvert_exporter": "python",
   "pygments_lexer": "ipython3",
   "version": "3.10.0"
  },
  "orig_nbformat": 4
 },
 "nbformat": 4,
 "nbformat_minor": 2
}
