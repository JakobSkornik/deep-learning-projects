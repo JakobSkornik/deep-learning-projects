{
 "cells": [
  {
   "attachments": {},
   "cell_type": "markdown",
   "metadata": {},
   "source": [
    "# ASSIGNMENT 1"
   ]
  },
  {
   "attachments": {},
   "cell_type": "markdown",
   "metadata": {},
   "source": [
    "## Setup\n",
    "\n",
    "* `$ pip install --user virtualenv`\n",
    "* `$ python3 -m venv venv`\n",
    "* `$ source venv/bin/activate`\n",
    "* `(venv) $ pip install -r requirements.txt`\n",
    "* `(venv) $ ipython kernel install --name=venv`\n",
    "* **main.ipynb** > **`F1`** > `Notebook: Select Notebook Kernel` > `venv`"
   ]
  },
  {
   "cell_type": "markdown",
   "metadata": {},
   "source": [
    "## Import\n",
    "\n",
    "Before you begin to run your code, you need to load all required modules. Simply execute the code block below. This block also enables Jupyter's auto-reloading feature, so you dont need to re-import modules whenever you change them."
   ]
  },
  {
   "cell_type": "code",
   "execution_count": 1,
   "metadata": {},
   "outputs": [
    {
     "name": "stdout",
     "output_type": "stream",
     "text": [
      "The autoreload extension is already loaded. To reload it, use:\n",
      "  %reload_ext autoreload\n"
     ]
    }
   ],
   "source": [
    "# In order to import from the python file without hassle, we add the current\n",
    "# directory to the python path\n",
    "import sys; sys.path.append(\".\")\n",
    "\n",
    "# Auto-reload\n",
    "%load_ext autoreload\n",
    "%autoreload 2"
   ]
  },
  {
   "attachments": {},
   "cell_type": "markdown",
   "metadata": {},
   "source": [
    "## Neural Network"
   ]
  },
  {
   "cell_type": "code",
   "execution_count": 2,
   "metadata": {},
   "outputs": [],
   "source": [
    "from src.network import load_data_cifar, validation_split\n",
    "\n",
    "train_file = \"./data/train_data.pckl\"\n",
    "test_file = \"./data/test_data.pckl\"\n",
    "\n",
    "train_data, train_class, test_data, test_class = load_data_cifar(\n",
    "    train_file=train_file, test_file=test_file\n",
    ")\n",
    "\n",
    "data, truths, val_data, val_truths = validation_split(\n",
    "    dataset=train_data, ground_truths=train_class, pct=0.1\n",
    ")"
   ]
  },
  {
   "cell_type": "code",
   "execution_count": 3,
   "metadata": {},
   "outputs": [
    {
     "name": "stdout",
     "output_type": "stream",
     "text": [
      "Epoch 0 | Loss: 2.2968 | Eta: 0.00097951 | Acc: 0.0847\n",
      "Epoch 1 | Loss: 2.2795 | Eta: 0.00095944 | Acc: 0.1368\n",
      "Epoch 2 | Loss: 2.2616 | Eta: 0.00093977 | Acc: 0.2020\n",
      "Epoch 3 | Loss: 2.2457 | Eta: 0.00092051 | Acc: 0.1792\n",
      "Epoch 4 | Loss: 2.2256 | Eta: 0.00090164 | Acc: 0.2150\n",
      "Epoch 5 | Loss: 2.2061 | Eta: 0.00088316 | Acc: 0.2150\n",
      "Epoch 6 | Loss: 2.1847 | Eta: 0.00086506 | Acc: 0.2476\n",
      "Epoch 7 | Loss: 2.1642 | Eta: 0.00084733 | Acc: 0.2606\n",
      "Epoch 8 | Loss: 2.1460 | Eta: 0.00082996 | Acc: 0.2704\n",
      "Epoch 9 | Loss: 2.1260 | Eta: 0.00081295 | Acc: 0.2606\n",
      "Epoch 10 | Loss: 2.1071 | Eta: 0.00079628 | Acc: 0.2932\n",
      "Epoch 11 | Loss: 2.0902 | Eta: 0.00077996 | Acc: 0.2997\n",
      "Epoch 12 | Loss: 2.0723 | Eta: 0.00076398 | Acc: 0.2964\n",
      "Epoch 13 | Loss: 2.0599 | Eta: 0.00074832 | Acc: 0.2736\n",
      "Epoch 14 | Loss: 2.0457 | Eta: 0.00073298 | Acc: 0.3062\n",
      "Epoch 15 | Loss: 2.0337 | Eta: 0.00071795 | Acc: 0.2997\n",
      "Epoch 16 | Loss: 2.0186 | Eta: 0.00070324 | Acc: 0.3322\n",
      "Epoch 17 | Loss: 2.0102 | Eta: 0.00068882 | Acc: 0.3192\n",
      "Epoch 18 | Loss: 1.9993 | Eta: 0.00067470 | Acc: 0.3225\n",
      "Epoch 19 | Loss: 1.9885 | Eta: 0.00066088 | Acc: 0.3192\n",
      "Epoch 20 | Loss: 1.9806 | Eta: 0.00064733 | Acc: 0.3225\n",
      "Epoch 21 | Loss: 1.9719 | Eta: 0.00063406 | Acc: 0.3322\n",
      "Epoch 22 | Loss: 1.9643 | Eta: 0.00062106 | Acc: 0.3322\n",
      "Epoch 23 | Loss: 1.9596 | Eta: 0.00060833 | Acc: 0.3355\n",
      "Epoch 24 | Loss: 1.9503 | Eta: 0.00059587 | Acc: 0.3225\n",
      "Epoch 25 | Loss: 1.9447 | Eta: 0.00058365 | Acc: 0.3225\n",
      "Epoch 26 | Loss: 1.9378 | Eta: 0.00057169 | Acc: 0.3257\n",
      "Epoch 27 | Loss: 1.9322 | Eta: 0.00055997 | Acc: 0.3225\n",
      "Epoch 28 | Loss: 1.9264 | Eta: 0.00054849 | Acc: 0.3290\n",
      "Epoch 29 | Loss: 1.9234 | Eta: 0.00053725 | Acc: 0.3290\n",
      "Epoch 30 | Loss: 1.9183 | Eta: 0.00052624 | Acc: 0.3257\n",
      "Epoch 31 | Loss: 1.9148 | Eta: 0.00051545 | Acc: 0.3290\n",
      "Epoch 32 | Loss: 1.9084 | Eta: 0.00050489 | Acc: 0.3355\n",
      "Epoch 33 | Loss: 1.9055 | Eta: 0.00049454 | Acc: 0.3322\n",
      "Epoch 34 | Loss: 1.9030 | Eta: 0.00048440 | Acc: 0.3420\n",
      "Epoch 35 | Loss: 1.8985 | Eta: 0.00047447 | Acc: 0.3355\n",
      "Epoch 36 | Loss: 1.8964 | Eta: 0.00046475 | Acc: 0.3388\n",
      "Epoch 37 | Loss: 1.8942 | Eta: 0.00045522 | Acc: 0.3322\n",
      "Epoch 38 | Loss: 1.8917 | Eta: 0.00044589 | Acc: 0.3355\n",
      "Epoch 39 | Loss: 1.8890 | Eta: 0.00043675 | Acc: 0.3420\n",
      "Epoch 40 | Loss: 1.8852 | Eta: 0.00042780 | Acc: 0.3420\n",
      "Epoch 41 | Loss: 1.8834 | Eta: 0.00041903 | Acc: 0.3257\n",
      "Epoch 42 | Loss: 1.8811 | Eta: 0.00041044 | Acc: 0.3453\n",
      "Epoch 43 | Loss: 1.8793 | Eta: 0.00040203 | Acc: 0.3420\n",
      "Epoch 44 | Loss: 1.8762 | Eta: 0.00039379 | Acc: 0.3485\n",
      "Epoch 45 | Loss: 1.8734 | Eta: 0.00038572 | Acc: 0.3550\n",
      "Epoch 46 | Loss: 1.8726 | Eta: 0.00037781 | Acc: 0.3518\n",
      "Epoch 47 | Loss: 1.8719 | Eta: 0.00037007 | Acc: 0.3453\n",
      "Epoch 48 | Loss: 1.8686 | Eta: 0.00036248 | Acc: 0.3518\n",
      "Epoch 49 | Loss: 1.8662 | Eta: 0.00035505 | Acc: 0.3583\n",
      "Epoch 50 | Loss: 1.8678 | Eta: 0.00034777 | Acc: 0.3388\n",
      "Epoch 51 | Loss: 1.8645 | Eta: 0.00034065 | Acc: 0.3485\n",
      "Epoch 52 | Loss: 1.8634 | Eta: 0.00033366 | Acc: 0.3453\n",
      "Epoch 53 | Loss: 1.8625 | Eta: 0.00032683 | Acc: 0.3388\n",
      "Epoch 54 | Loss: 1.8606 | Eta: 0.00032013 | Acc: 0.3453\n",
      "Epoch 55 | Loss: 1.8584 | Eta: 0.00031356 | Acc: 0.3485\n",
      "Epoch 56 | Loss: 1.8576 | Eta: 0.00030714 | Acc: 0.3453\n",
      "Epoch 57 | Loss: 1.8578 | Eta: 0.00030084 | Acc: 0.3388\n",
      "Epoch 58 | Loss: 1.8544 | Eta: 0.00029468 | Acc: 0.3518\n",
      "Epoch 59 | Loss: 1.8535 | Eta: 0.00028864 | Acc: 0.3453\n",
      "\r"
     ]
    },
    {
     "data": {
      "text/plain": [
       "(1.8819111648981048, 0.3386)"
      ]
     },
     "execution_count": 3,
     "metadata": {},
     "output_type": "execute_result"
    }
   ],
   "source": [
    "from src.network import Network, SGD_Params\n",
    "\n",
    "params = SGD_Params(eta=0.001, eta_decay=0.00001)\n",
    "\n",
    "net = Network([train_data.shape[0], 128, 64, 10], optimizer=\"sgd\", params=params)\n",
    "\n",
    "loss, acc = net.train(\n",
    "    training_data=data,\n",
    "    training_class=truths,\n",
    "    val_data=val_data,\n",
    "    val_class=val_truths,\n",
    "    epochs=60,\n",
    "    mini_batch_size=24,\n",
    ")\n",
    "net.eval_network(test_data, test_class)"
   ]
  },
  {
   "cell_type": "code",
   "execution_count": 4,
   "metadata": {},
   "outputs": [
    {
     "name": "stdout",
     "output_type": "stream",
     "text": [
      "Epoch 0 | Loss: 1.8999 | Eta: 0.00097951 | Acc: 0.2834\n",
      "Epoch 1 | Loss: 1.8376 | Eta: 0.00095944 | Acc: 0.3518\n",
      "Epoch 2 | Loss: 1.8678 | Eta: 0.00093977 | Acc: 0.3062\n",
      "Epoch 3 | Loss: 1.8019 | Eta: 0.00092051 | Acc: 0.3322\n",
      "Epoch 4 | Loss: 1.7865 | Eta: 0.00090164 | Acc: 0.3648\n",
      "Epoch 5 | Loss: 1.7305 | Eta: 0.00088316 | Acc: 0.3453\n",
      "Epoch 6 | Loss: 1.7477 | Eta: 0.00086506 | Acc: 0.3518\n",
      "Epoch 7 | Loss: 1.7170 | Eta: 0.00084733 | Acc: 0.3518\n",
      "Epoch 8 | Loss: 1.7024 | Eta: 0.00082996 | Acc: 0.3876\n",
      "Epoch 9 | Loss: 1.6477 | Eta: 0.00081295 | Acc: 0.3974\n",
      "Epoch 10 | Loss: 1.6999 | Eta: 0.00079628 | Acc: 0.3746\n",
      "Epoch 11 | Loss: 1.6159 | Eta: 0.00077996 | Acc: 0.4104\n",
      "Epoch 12 | Loss: 1.5978 | Eta: 0.00076398 | Acc: 0.4137\n",
      "Epoch 13 | Loss: 1.5489 | Eta: 0.00074832 | Acc: 0.4300\n",
      "Epoch 14 | Loss: 1.5430 | Eta: 0.00073298 | Acc: 0.4072\n",
      "Epoch 15 | Loss: 1.5318 | Eta: 0.00071795 | Acc: 0.3941\n",
      "Epoch 16 | Loss: 1.5708 | Eta: 0.00070324 | Acc: 0.4463\n",
      "Epoch 17 | Loss: 1.4991 | Eta: 0.00068882 | Acc: 0.4495\n",
      "Epoch 18 | Loss: 1.5514 | Eta: 0.00067470 | Acc: 0.4169\n",
      "Epoch 19 | Loss: 1.5286 | Eta: 0.00066088 | Acc: 0.4235\n",
      "Epoch 20 | Loss: 1.5390 | Eta: 0.00064733 | Acc: 0.4463\n",
      "Epoch 21 | Loss: 1.4597 | Eta: 0.00063406 | Acc: 0.4495\n",
      "Epoch 22 | Loss: 1.4855 | Eta: 0.00062106 | Acc: 0.4365\n",
      "Epoch 23 | Loss: 1.4725 | Eta: 0.00060833 | Acc: 0.4625\n",
      "Epoch 24 | Loss: 1.4680 | Eta: 0.00059587 | Acc: 0.4495\n",
      "Epoch 25 | Loss: 1.4155 | Eta: 0.00058365 | Acc: 0.4593\n",
      "Epoch 26 | Loss: 1.4580 | Eta: 0.00057169 | Acc: 0.4886\n",
      "Epoch 27 | Loss: 1.4664 | Eta: 0.00055997 | Acc: 0.4658\n",
      "Epoch 28 | Loss: 1.4361 | Eta: 0.00054849 | Acc: 0.4593\n",
      "Epoch 29 | Loss: 1.4214 | Eta: 0.00053725 | Acc: 0.5049\n",
      "Epoch 30 | Loss: 1.4575 | Eta: 0.00052624 | Acc: 0.5081\n",
      "Epoch 31 | Loss: 1.4491 | Eta: 0.00051545 | Acc: 0.4821\n",
      "Epoch 32 | Loss: 1.4280 | Eta: 0.00050489 | Acc: 0.4788\n",
      "Epoch 33 | Loss: 1.4053 | Eta: 0.00049454 | Acc: 0.5244\n",
      "Epoch 34 | Loss: 1.3760 | Eta: 0.00048440 | Acc: 0.5114\n",
      "Epoch 35 | Loss: 1.4453 | Eta: 0.00047447 | Acc: 0.5081\n",
      "Epoch 36 | Loss: 1.3912 | Eta: 0.00046475 | Acc: 0.5114\n",
      "Epoch 37 | Loss: 1.4674 | Eta: 0.00045522 | Acc: 0.5147\n",
      "Epoch 38 | Loss: 1.4336 | Eta: 0.00044589 | Acc: 0.4821\n",
      "Epoch 39 | Loss: 1.4340 | Eta: 0.00043675 | Acc: 0.5081\n",
      "Epoch 40 | Loss: 1.4101 | Eta: 0.00042780 | Acc: 0.4886\n",
      "Epoch 41 | Loss: 1.4148 | Eta: 0.00041903 | Acc: 0.5081\n",
      "Epoch 42 | Loss: 1.3913 | Eta: 0.00041044 | Acc: 0.5342\n",
      "Epoch 43 | Loss: 1.3937 | Eta: 0.00040203 | Acc: 0.5179\n",
      "Epoch 44 | Loss: 1.4495 | Eta: 0.00039379 | Acc: 0.4951\n",
      "Epoch 45 | Loss: 1.3900 | Eta: 0.00038572 | Acc: 0.5342\n",
      "Epoch 46 | Loss: 1.4059 | Eta: 0.00037781 | Acc: 0.5309\n",
      "Epoch 47 | Loss: 1.4339 | Eta: 0.00037007 | Acc: 0.5114\n",
      "Epoch 48 | Loss: 1.3871 | Eta: 0.00036248 | Acc: 0.5147\n",
      "Epoch 49 | Loss: 1.4032 | Eta: 0.00035505 | Acc: 0.5244\n",
      "Epoch 50 | Loss: 1.4435 | Eta: 0.00034777 | Acc: 0.5212\n",
      "Epoch 51 | Loss: 1.4228 | Eta: 0.00034065 | Acc: 0.5016\n",
      "Epoch 52 | Loss: 1.3815 | Eta: 0.00033366 | Acc: 0.5212\n",
      "Epoch 53 | Loss: 1.4453 | Eta: 0.00032683 | Acc: 0.5016\n",
      "Epoch 54 | Loss: 1.4027 | Eta: 0.00032013 | Acc: 0.5049\n",
      "Epoch 55 | Loss: 1.3766 | Eta: 0.00031356 | Acc: 0.5081\n",
      "Epoch 56 | Loss: 1.3823 | Eta: 0.00030714 | Acc: 0.5244\n",
      "Epoch 57 | Loss: 1.3988 | Eta: 0.00030084 | Acc: 0.5244\n",
      "Epoch 58 | Loss: 1.4170 | Eta: 0.00029468 | Acc: 0.4984\n",
      "Epoch 59 | Loss: 1.3776 | Eta: 0.00028864 | Acc: 0.5309\n",
      "\r"
     ]
    },
    {
     "data": {
      "text/plain": [
       "(1.5053931348324363, 0.482)"
      ]
     },
     "execution_count": 4,
     "metadata": {},
     "output_type": "execute_result"
    }
   ],
   "source": [
    "from src.network import Network, Adam_Params\n",
    "\n",
    "params = Adam_Params(\n",
    "    eta=0.001, eta_decay=0.00001, epsilon=1e-7, beta_1=0.9, beta_2=0.999\n",
    ")\n",
    "\n",
    "net = Network([train_data.shape[0], 128, 64, 10], optimizer=\"adam\", params=params)\n",
    "\n",
    "loss, acc = net.train(\n",
    "    training_data=data,\n",
    "    training_class=truths,\n",
    "    val_data=val_data,\n",
    "    val_class=val_truths,\n",
    "    epochs=60,\n",
    "    mini_batch_size=24,\n",
    ")\n",
    "net.eval_network(test_data, test_class)"
   ]
  },
  {
   "cell_type": "code",
   "execution_count": 5,
   "metadata": {},
   "outputs": [
    {
     "data": {
      "text/plain": [
       "(1.5053931348324363, 0.482)"
      ]
     },
     "execution_count": 5,
     "metadata": {},
     "output_type": "execute_result"
    }
   ],
   "source": [
    "net.eval_network(test_data, test_class)"
   ]
  },
  {
   "cell_type": "code",
   "execution_count": 6,
   "metadata": {},
   "outputs": [
    {
     "data": {
      "image/png": "[encoded data removed]",
      "text/plain": [
       "<Figure size 432x288 with 1 Axes>"
      ]
     },
     "metadata": {
      "needs_background": "light"
     },
     "output_type": "display_data"
    }
   ],
   "source": [
    "import matplotlib.pyplot as plt\n",
    "\n",
    "# summarize history for accuracy\n",
    "plt.plot(acc)\n",
    "plt.plot(loss)\n",
    "plt.title('Validation Loss and Accuracy')\n",
    "plt.ylabel('Loss/Accuracy')\n",
    "plt.xlabel('Epoch')\n",
    "plt.legend(['Accuracy', 'Loss'], loc='upper right')\n",
    "plt.show()"
   ]
  }
 ],
 "metadata": {
  "kernelspec": {
   "display_name": "Python 3",
   "language": "python",
   "name": "python3"
  },
  "language_info": {
   "codemirror_mode": {
    "name": "ipython",
    "version": 3
   },
   "file_extension": ".py",
   "mimetype": "text/x-python",
   "name": "python",
   "nbconvert_exporter": "python",
   "pygments_lexer": "ipython3",
   "version": "3.9.13"
  },
  "orig_nbformat": 4
 },
 "nbformat": 4,
 "nbformat_minor": 2
}
